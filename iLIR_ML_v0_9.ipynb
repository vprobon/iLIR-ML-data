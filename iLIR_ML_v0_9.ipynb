{
  "nbformat": 4,
  "nbformat_minor": 0,
  "metadata": {
    "colab": {
      "provenance": [],
      "collapsed_sections": [
        "T4m7_zmaPKWc",
        "hzyS82TJPuq-",
        "NjeyHYF6b1s8"
      ],
      "include_colab_link": true
    },
    "kernelspec": {
      "name": "python3",
      "display_name": "Python 3"
    },
    "language_info": {
      "name": "python"
    },
    "widgets": {
      "application/vnd.jupyter.widget-state+json": {
        "94e423bc90514ea2be07a13a880f0227": {
          "model_module": "@jupyter-widgets/controls",
          "model_name": "TextareaModel",
          "model_module_version": "1.5.0",
          "state": {
            "_dom_classes": [],
            "_model_module": "@jupyter-widgets/controls",
            "_model_module_version": "1.5.0",
            "_model_name": "TextareaModel",
            "_view_count": null,
            "_view_module": "@jupyter-widgets/controls",
            "_view_module_version": "1.5.0",
            "_view_name": "TextareaView",
            "continuous_update": true,
            "description": "UniProt ID:",
            "description_tooltip": null,
            "disabled": false,
            "layout": "IPY_MODEL_085f51245e6a4ed5b8098732ec538478",
            "placeholder": "Enter UniProt ID here",
            "rows": null,
            "style": "IPY_MODEL_ad011b4a20f148b799dac204e4f00d48",
            "value": "Q13772"
          }
        },
        "085f51245e6a4ed5b8098732ec538478": {
          "model_module": "@jupyter-widgets/base",
          "model_name": "LayoutModel",
          "model_module_version": "1.2.0",
          "state": {
            "_model_module": "@jupyter-widgets/base",
            "_model_module_version": "1.2.0",
            "_model_name": "LayoutModel",
            "_view_count": null,
            "_view_module": "@jupyter-widgets/base",
            "_view_module_version": "1.2.0",
            "_view_name": "LayoutView",
            "align_content": null,
            "align_items": null,
            "align_self": null,
            "border": null,
            "bottom": null,
            "display": null,
            "flex": null,
            "flex_flow": null,
            "grid_area": null,
            "grid_auto_columns": null,
            "grid_auto_flow": null,
            "grid_auto_rows": null,
            "grid_column": null,
            "grid_gap": null,
            "grid_row": null,
            "grid_template_areas": null,
            "grid_template_columns": null,
            "grid_template_rows": null,
            "height": null,
            "justify_content": null,
            "justify_items": null,
            "left": null,
            "margin": null,
            "max_height": null,
            "max_width": null,
            "min_height": null,
            "min_width": null,
            "object_fit": null,
            "object_position": null,
            "order": null,
            "overflow": null,
            "overflow_x": null,
            "overflow_y": null,
            "padding": null,
            "right": null,
            "top": null,
            "visibility": null,
            "width": null
          }
        },
        "ad011b4a20f148b799dac204e4f00d48": {
          "model_module": "@jupyter-widgets/controls",
          "model_name": "DescriptionStyleModel",
          "model_module_version": "1.5.0",
          "state": {
            "_model_module": "@jupyter-widgets/controls",
            "_model_module_version": "1.5.0",
            "_model_name": "DescriptionStyleModel",
            "_view_count": null,
            "_view_module": "@jupyter-widgets/base",
            "_view_module_version": "1.2.0",
            "_view_name": "StyleView",
            "description_width": ""
          }
        },
        "39d596cdfaca4c1f86eabd58158f2fd2": {
          "model_module": "@jupyter-widgets/controls",
          "model_name": "ButtonModel",
          "model_module_version": "1.5.0",
          "state": {
            "_dom_classes": [],
            "_model_module": "@jupyter-widgets/controls",
            "_model_module_version": "1.5.0",
            "_model_name": "ButtonModel",
            "_view_count": null,
            "_view_module": "@jupyter-widgets/controls",
            "_view_module_version": "1.5.0",
            "_view_name": "ButtonView",
            "button_style": "",
            "description": "Predict",
            "disabled": false,
            "icon": "",
            "layout": "IPY_MODEL_166db4823fd74256a3ec1107ec14b16f",
            "style": "IPY_MODEL_3335317b65444efe8e71ca6206d1ab47",
            "tooltip": ""
          }
        },
        "166db4823fd74256a3ec1107ec14b16f": {
          "model_module": "@jupyter-widgets/base",
          "model_name": "LayoutModel",
          "model_module_version": "1.2.0",
          "state": {
            "_model_module": "@jupyter-widgets/base",
            "_model_module_version": "1.2.0",
            "_model_name": "LayoutModel",
            "_view_count": null,
            "_view_module": "@jupyter-widgets/base",
            "_view_module_version": "1.2.0",
            "_view_name": "LayoutView",
            "align_content": null,
            "align_items": null,
            "align_self": null,
            "border": null,
            "bottom": null,
            "display": null,
            "flex": null,
            "flex_flow": null,
            "grid_area": null,
            "grid_auto_columns": null,
            "grid_auto_flow": null,
            "grid_auto_rows": null,
            "grid_column": null,
            "grid_gap": null,
            "grid_row": null,
            "grid_template_areas": null,
            "grid_template_columns": null,
            "grid_template_rows": null,
            "height": null,
            "justify_content": null,
            "justify_items": null,
            "left": null,
            "margin": null,
            "max_height": null,
            "max_width": null,
            "min_height": null,
            "min_width": null,
            "object_fit": null,
            "object_position": null,
            "order": null,
            "overflow": null,
            "overflow_x": null,
            "overflow_y": null,
            "padding": null,
            "right": null,
            "top": null,
            "visibility": null,
            "width": null
          }
        },
        "3335317b65444efe8e71ca6206d1ab47": {
          "model_module": "@jupyter-widgets/controls",
          "model_name": "ButtonStyleModel",
          "model_module_version": "1.5.0",
          "state": {
            "_model_module": "@jupyter-widgets/controls",
            "_model_module_version": "1.5.0",
            "_model_name": "ButtonStyleModel",
            "_view_count": null,
            "_view_module": "@jupyter-widgets/base",
            "_view_module_version": "1.2.0",
            "_view_name": "StyleView",
            "button_color": null,
            "font_weight": ""
          }
        },
        "6762bfae86b84ea19e9539b7e0940fc1": {
          "model_module": "@jupyter-widgets/output",
          "model_name": "OutputModel",
          "model_module_version": "1.0.0",
          "state": {
            "_dom_classes": [],
            "_model_module": "@jupyter-widgets/output",
            "_model_module_version": "1.0.0",
            "_model_name": "OutputModel",
            "_view_count": null,
            "_view_module": "@jupyter-widgets/output",
            "_view_module_version": "1.0.0",
            "_view_name": "OutputView",
            "layout": "IPY_MODEL_54718c6f4a864b3e8f4631216f9adb0a",
            "msg_id": "",
            "outputs": [
              {
                "output_type": "stream",
                "name": "stdout",
                "text": [
                  "Q13772 70\tYEQV\tPSSM: 3\tpLIRm -12.4019508544393\tPred: Non-functional\tProb: [0.80443972 0.19556028]\n",
                  "Q13772 92\tYSLL\tPSSM: 4\tpLIRm -8.396007171321536\tPred: Functional\tProb: [0.30470964 0.69529036]\n",
                  "Q13772 98\tFNCL\tPSSM: 3\tpLIRm -13.060213193776669\tPred: Functional\tProb: [0.46281359 0.53718641]\n",
                  "Q13772 153\tFGSL\tPSSM: 5\tpLIRm -9.01278470930189\tPred: Functional\tProb: [0.41586819 0.58413181]\n",
                  "Q13772 246\tFNNV\tPSSM: -2\tpLIRm -17.92498563162755\tPred: Non-functional\tProb: [0.68972483 0.31027517]\n"
                ]
              },
              {
                "output_type": "stream",
                "name": "stdout",
                "text": [
                  "Q13772 327\tFKLL\tPSSM: 7\tpLIRm -10.822250191540633\tPred: Functional\tProb: [0.37357112 0.62642888]\n",
                  "Q13772 427\tYKWL\tPSSM: 2\tpLIRm -13.613620181509695\tPred: Non-functional\tProb: [0.75502278 0.24497722]\n",
                  "Q13772 485\tFQVI\tPSSM: 14\tpLIRm -3.7395835257810504\tPred: Functional\tProb: [0.10853687 0.89146313]\n"
                ]
              }
            ]
          }
        },
        "54718c6f4a864b3e8f4631216f9adb0a": {
          "model_module": "@jupyter-widgets/base",
          "model_name": "LayoutModel",
          "model_module_version": "1.2.0",
          "state": {
            "_model_module": "@jupyter-widgets/base",
            "_model_module_version": "1.2.0",
            "_model_name": "LayoutModel",
            "_view_count": null,
            "_view_module": "@jupyter-widgets/base",
            "_view_module_version": "1.2.0",
            "_view_name": "LayoutView",
            "align_content": null,
            "align_items": null,
            "align_self": null,
            "border": null,
            "bottom": null,
            "display": null,
            "flex": null,
            "flex_flow": null,
            "grid_area": null,
            "grid_auto_columns": null,
            "grid_auto_flow": null,
            "grid_auto_rows": null,
            "grid_column": null,
            "grid_gap": null,
            "grid_row": null,
            "grid_template_areas": null,
            "grid_template_columns": null,
            "grid_template_rows": null,
            "height": null,
            "justify_content": null,
            "justify_items": null,
            "left": null,
            "margin": null,
            "max_height": null,
            "max_width": null,
            "min_height": null,
            "min_width": null,
            "object_fit": null,
            "object_position": null,
            "order": null,
            "overflow": null,
            "overflow_x": null,
            "overflow_y": null,
            "padding": null,
            "right": null,
            "top": null,
            "visibility": null,
            "width": null
          }
        }
      }
    }
  },
  "cells": [
    {
      "cell_type": "markdown",
      "metadata": {
        "id": "view-in-github",
        "colab_type": "text"
      },
      "source": [
        "<a href=\"https://colab.research.google.com/github/vprobon/iLIR-ML-data/blob/main/iLIR_ML_v0_9.ipynb\" target=\"_parent\"><img src=\"https://colab.research.google.com/assets/colab-badge.svg\" alt=\"Open In Colab\"/></a>"
      ]
    },
    {
      "cell_type": "markdown",
      "source": [
        "# iLIR-ML-v0.9: A Machine Learning Method for Prediction of functional LIR motifs from protein sequences and AlphaFold2-based predicted Intrinsic Disorder\n",
        "\n",
        "Currently accepted input is a UniProt identifier.\n",
        "\n",
        "**Note:** To run a prediction you may either\n",
        "> - run in sequence all the cells below and enter the UniProt ID of your interest in the text area in the last cell, or\n",
        "> -select ```Runtime->Run all``` and go directly to the last cell to enter the UniProt ID.\n",
        "\n",
        "You may use the following link to navigate directly to the [input form](https://colab.research.google.com/drive/1yWIE_s6r07OoOuIa1fXt8_MZeC89S0QE#scrollTo=NjeyHYF6b1s8&line=1&uniqifier=1)."
      ],
      "metadata": {
        "id": "cd_DZyAdUbgf"
      }
    },
    {
      "cell_type": "markdown",
      "source": [
        "# Setup\n",
        "\n",
        "Start by running the cells below to initialize the environment and define utility functions"
      ],
      "metadata": {
        "id": "6zywj3nObukP"
      }
    },
    {
      "cell_type": "code",
      "source": [
        "# Clear working directory\n",
        "!rm -rf sample_data\n",
        "!rm -rf iLIR-ML*\n",
        "!rm *.pkl"
      ],
      "metadata": {
        "id": "_lsrQG5tOEGs",
        "outputId": "aa30289c-7952-43d1-f142-d5ca992fca06",
        "colab": {
          "base_uri": "https://localhost:8080/"
        }
      },
      "execution_count": 1,
      "outputs": [
        {
          "output_type": "stream",
          "name": "stdout",
          "text": [
            "rm: cannot remove '*.pkl': No such file or directory\n"
          ]
        }
      ]
    },
    {
      "cell_type": "code",
      "source": [
        "# Copy necessary files from GitHUb\n",
        "!wget 'https://github.com/vprobon/iLIR-ML-data/raw/main/iLIR-ML(AF2_newPSSM_pLIRm)-20240617T031502Z-001.zip'\n",
        "!unzip 'iLIR-ML(AF2_newPSSM_pLIRm)-20240617T031502Z-001.zip'\n",
        "!rm 'iLIR-ML(AF2_newPSSM_pLIRm)-20240617T031502Z-001.zip'\n",
        "!ln -s  '/content/iLIR-ML(AF2_newPSSM_pLIRm)' workdir"
      ],
      "metadata": {
        "colab": {
          "base_uri": "https://localhost:8080/"
        },
        "collapsed": true,
        "id": "9cwMZ2pyVhaj",
        "outputId": "19512f6c-0bfd-448a-d1f1-faa409c5c0d9"
      },
      "execution_count": 2,
      "outputs": [
        {
          "output_type": "stream",
          "name": "stdout",
          "text": [
            "--2024-06-17 15:00:07--  https://github.com/vprobon/iLIR-ML-data/raw/main/iLIR-ML(AF2_newPSSM_pLIRm)-20240617T031502Z-001.zip\n",
            "Resolving github.com (github.com)... 140.82.112.4\n",
            "Connecting to github.com (github.com)|140.82.112.4|:443... connected.\n",
            "HTTP request sent, awaiting response... 302 Found\n",
            "Location: https://raw.githubusercontent.com/vprobon/iLIR-ML-data/main/iLIR-ML(AF2_newPSSM_pLIRm)-20240617T031502Z-001.zip [following]\n",
            "--2024-06-17 15:00:07--  https://raw.githubusercontent.com/vprobon/iLIR-ML-data/main/iLIR-ML(AF2_newPSSM_pLIRm)-20240617T031502Z-001.zip\n",
            "Resolving raw.githubusercontent.com (raw.githubusercontent.com)... 185.199.111.133, 185.199.110.133, 185.199.109.133, ...\n",
            "Connecting to raw.githubusercontent.com (raw.githubusercontent.com)|185.199.111.133|:443... connected.\n",
            "HTTP request sent, awaiting response... 200 OK\n",
            "Length: 2781566 (2.7M) [application/zip]\n",
            "Saving to: ‘iLIR-ML(AF2_newPSSM_pLIRm)-20240617T031502Z-001.zip’\n",
            "\n",
            "iLIR-ML(AF2_newPSSM 100%[===================>]   2.65M  --.-KB/s    in 0.08s   \n",
            "\n",
            "2024-06-17 15:00:07 (34.9 MB/s) - ‘iLIR-ML(AF2_newPSSM_pLIRm)-20240617T031502Z-001.zip’ saved [2781566/2781566]\n",
            "\n",
            "Archive:  iLIR-ML(AF2_newPSSM_pLIRm)-20240617T031502Z-001.zip\n",
            "  inflating: iLIR-ML(AF2_newPSSM_pLIRm)/ensemble_scaler_AFdis_pssm_newPSSMs.pkl  \n",
            "  inflating: iLIR-ML(AF2_newPSSM_pLIRm)/trained_model.txt  \n",
            "  inflating: iLIR-ML(AF2_newPSSM_pLIRm)/BLOSUM62R.txt  \n",
            "  inflating: iLIR-ML(AF2_newPSSM_pLIRm)/negative.pssm  \n",
            "  inflating: iLIR-ML(AF2_newPSSM_pLIRm)/stacking_scaler_AFdis_pssm_newPSSMs.pkl  \n",
            "  inflating: iLIR-ML(AF2_newPSSM_pLIRm)/positive.pssm  \n",
            "  inflating: iLIR-ML(AF2_newPSSM_pLIRm)/scaler_w_pLIRm.pkl  \n",
            "  inflating: iLIR-ML(AF2_newPSSM_pLIRm)/data_set.txt  \n",
            "  inflating: iLIR-ML(AF2_newPSSM_pLIRm)/alphafold_disorder_predictions.csv  \n",
            "  inflating: iLIR-ML(AF2_newPSSM_pLIRm)/LIRcentral-OnlyVerified-Canonical.csv  \n",
            "  inflating: iLIR-ML(AF2_newPSSM_pLIRm)/stacking_classifier_w_pLIRm.pkl  \n",
            "  inflating: iLIR-ML(AF2_newPSSM_pLIRm)/stacking_classifier.pkl  \n",
            "  inflating: iLIR-ML(AF2_newPSSM_pLIRm)/ensemble_classifier.pkl  \n",
            "  inflating: iLIR-ML(AF2_newPSSM_pLIRm)/stacking_classifier_AFdis_pssm_newPSSMs.pkl  \n",
            "  inflating: iLIR-ML(AF2_newPSSM_pLIRm)/ensemble_classifier_AFdis_pssm_newPSSMs.pkl  \n"
          ]
        }
      ]
    },
    {
      "cell_type": "code",
      "source": [
        "# Utility functions\n",
        "\n",
        "import requests\n",
        "import json\n",
        "import csv\n",
        "# Fetch AlphaFold-disorder predictions from MobiDB\n",
        "def query_mobidb(uniprot_id):\n",
        "    url = f\"https://mobidb.bio.unipd.it/api/download?acc={uniprot_id}&format=json\"\n",
        "    response = requests.get(url)\n",
        "    if response.status_code == 200:\n",
        "        return response.json()\n",
        "    else:\n",
        "        print(response.status_code)\n",
        "        return None\n",
        "\n",
        "# Function to extract prediction-disorder-alphafold values from JSON\n",
        "def extract_alphafold_disorder(json_data):\n",
        "    if 'prediction-disorder-alphafold' in json_data:\n",
        "        return json_data['prediction-disorder-alphafold']['scores']\n",
        "    else:\n",
        "        return None\n",
        "\n",
        "# Function to extract sequence from JSON\n",
        "def extract_sequence(json_data):\n",
        "    if 'sequence' in json_data:\n",
        "        return json_data['sequence']\n",
        "    else:\n",
        "        return None"
      ],
      "metadata": {
        "id": "XnojFcYudTi7"
      },
      "execution_count": 3,
      "outputs": []
    },
    {
      "cell_type": "code",
      "source": [
        "# PSSM related functions\n",
        "\n",
        "import pandas as pd\n",
        "\n",
        "\n",
        "# Load LIRcentral PSSMs from disk files\n",
        "c= [(9,12),(12,15),(15,18),(18,21),(21,24),(24,27),(27,30),(30,33),(33,36),(36,39),(39,42),\n",
        "            (42,45),(45,48),(48,51),(51,54),(54,57),(57,60),(60,63),(63,66), (66,69)\n",
        "            ]\n",
        "\n",
        "pssm_pos = pd.read_fwf('./workdir/positive.pssm', colspecs=c, skiprows=2, skipfooter=4)\n",
        "pssm_neg = pd.read_fwf('./workdir/negative.pssm', colspecs=c, skiprows=2, skipfooter=4)\n",
        "##\n",
        "\n",
        "AAlist = \"A  R  N  D  C  Q  E  G  H  I  L  K  M  F  P  S  T  W  Y  V\".split(\" \")\n",
        "\n",
        "# For LIRcentral PSSMs\n",
        "def pssm_score(seq,pssm):\n",
        "  '''\n",
        "  This function can score sequences (partially) against a PSSM.\n",
        "  Partial scoring can be achieved by padding sequence appropriately\n",
        "  with characters not in the ammino acid alphabet\n",
        "  '''\n",
        "\n",
        "  score=0\n",
        "  for i in range(0,len(seq)):\n",
        "    # Silently skip unknown characters (with zero score)\n",
        "    if seq[i] in AAlist:\n",
        "      score += pssm[seq[i]][i]\n",
        "  return(score)\n",
        "\n",
        "# Legacy PSSM (Kalvari et al., 2014)\n",
        "# Takes same sequence used to calculate pLIRm scores\n",
        "pssm_kalvari = [{'X':0,'U':0,'A':0,'R':1,'N':-1,'D':3,'C':-3,'Q':-1,'E':1,'G':0,'H':-2,'I':-2,'L':-1,'K':0,'M':-2,'F':1,'P':0,'S':1,'T':-1,'W':-3,'Y':-2,'V':-2},\n",
        "{'X':0,'U':0,'A':-2,'R':-2,'N':0,'D':5,'C':-3,'Q':-1,'E':2,'G':1,'H':-2,'I':-3,'L':-3,'K':-1,'M':1,'F':-4,'P':-2,'S':1,'T':1,'W':-4,'Y':-3,'V':-3},\n",
        "{'X':0,'U':0,'A':-4,'R':-4,'N':-5,'D':-6,'C':-4,'Q':-4,'E':-5,'G':5,'H':-3,'I':-4,'L':-3,'K':-5,'M':-3,'F':4,'P':-5,'S':-4,'T':-4,'W':11,'Y':5,'V':-4},\n",
        "{'X':0,'U':0,'A':-2,'R':-2,'N':-2,'D':2,'C':-3,'Q':1,'E':2,'G':-3,'H':-2,'I':1,'L':1,'K':-1,'M':-1,'F':-2,'P':-3,'S':-1,'T':1,'W':-3,'Y':-2,'V':2},\n",
        "{'X':0,'U':0,'A':0,'R':-1,'N':-2,'D':0,'C':-2,'Q':-1,'E':1,'G':-2,'H':0,'I':1,'L':0,'K':0,'M':2,'F':1,'P':0,'S':0,'T':1,'W':-3,'Y':-1,'V':1},\n",
        "{'X':0,'U':0,'A':-2,'R':-4,'N':-4,'D':-5,'C':-2,'Q':-4,'E':-4,'G':-5,'H':-4,'I':4,'L':4,'K':-4,'M':1,'F':-1,'P':-4,'S':-3,'T':-2,'W':-3,'Y':-2,'V':3}]\n",
        "\n",
        "def pssm_calculator(seq):\n",
        "    \"\"\"Calculates PSSM scores of AIM sequences\"\"\"\n",
        "    PSSM_score=0\n",
        "    for i in range(5, 11):\n",
        "        PSSM_score += pssm_kalvari[i-5][seq[i]]\n",
        "    return PSSM_score\n",
        "## end legacy PSSM\n",
        "\n",
        "\n",
        "# Sequence padding functions\n",
        "def left_pad_sequence(seq, total_length=10, pad_char='X'):\n",
        "    return seq.rjust(total_length, pad_char)\n",
        "\n",
        "def right_pad_sequence(seq, total_length=10, pad_char='X'):\n",
        "    return seq.ljust(total_length, pad_char)\n"
      ],
      "metadata": {
        "id": "BuFe3b54tH8N"
      },
      "execution_count": 4,
      "outputs": []
    },
    {
      "cell_type": "markdown",
      "source": [
        "# Import necessary libraries and models"
      ],
      "metadata": {
        "id": "wPBESfArbjpt"
      }
    },
    {
      "cell_type": "markdown",
      "source": [
        "# Code computing the legacy PSSM score (Kalvari et al., 2014) and the pLIRm score (Han et al., 2021).\n",
        "\n",
        "Run all cells below."
      ],
      "metadata": {
        "id": "T4m7_zmaPKWc"
      }
    },
    {
      "cell_type": "code",
      "source": [
        "# Code adopted by pLIRm\n",
        "# https://github.com/BioCUCKOO/pLIRm-pLAM\n",
        "\n",
        "BLOSUM62_file = open(\"./workdir/BLOSUM62R.txt\",'r')\n",
        "BLOSUM62_lines = BLOSUM62_file.readlines()\n",
        "BLOSUM62_dic = {}\n",
        "name_list = BLOSUM62_lines[0].split()\n",
        "value_list = BLOSUM62_lines[1].split()\n",
        "for i in range(1,len(name_list)):\n",
        "    BLOSUM62_dic[name_list[i]] = value_list[i]\n",
        "BLOSUM62_file.close()"
      ],
      "metadata": {
        "id": "HH-2o_BYACJD"
      },
      "execution_count": 5,
      "outputs": []
    },
    {
      "cell_type": "code",
      "source": [
        "def encode_pep_single(pep,p_list, weight_array):\n",
        "    if weight_array == None:\n",
        "        weight_array = []\n",
        "        for i in range(len(p_list[0])):\n",
        "            weight_array.append(1)\n",
        "    data = []\n",
        "\n",
        "    standard_dic = {'A':0,'R':1,'N':2,'D':3,'C':4,'Q':5,'E':6,'G':7,'H':8,'I':9,'L':10,'K':11,'M':12,'F':13,'P':14,'S':15,'T':16,'W':17,'Y':18,'V':19,'B':20,'Z':21,'X':22,'U':23}\n",
        "    conposition_list = []\n",
        "    for i in range(18):\n",
        "        conposition_list.append({'A':0,'R':0,'N':0,'D':0,'C':0,'Q':0,'E':0,'G':0,'H':0,'I':0,'L':0,'K':0,'M':0,'F':0,'P':0,'S':0,'T':0,'W':0,'Y':0,'V':0,'B':0,'Z':0,'X':0,'U':0})\n",
        "    tot_num = 0\n",
        "    for pos_seq in p_list:\n",
        "        if len(pos_seq) != 18:\n",
        "            continue\n",
        "        else:\n",
        "            tot_num += 1\n",
        "            for i in range(len(pos_seq)):\n",
        "                if pos_seq[i].upper() not in standard_dic.keys():\n",
        "                    AA = 'U'\n",
        "                else:\n",
        "                    AA = pos_seq[i]\n",
        "                conposition_list[i][AA] += 1\n",
        "    temp_score = [[0 for col in range(24)] for length in range(24)]\n",
        "    C_tot = [[0 for col in range(24)] for length in range(24)]\n",
        "    for j in range(0, len(pep)):\n",
        "        AA = pep[j]\n",
        "        for key in conposition_list[j].keys():\n",
        "\n",
        "            value = conposition_list[j][key]\n",
        "            C_tot[standard_dic[AA]][standard_dic[key]]+= value\n",
        "\n",
        "            key1 = AA+key\n",
        "            key2 = key+AA\n",
        "            if key1 in BLOSUM62_dic.keys():\n",
        "                temp_score[standard_dic[AA]][standard_dic[key]] += value*int(BLOSUM62_dic[key1])*weight_array[j]\n",
        "            elif key2 in BLOSUM62_dic.keys():\n",
        "                temp_score[standard_dic[AA]][standard_dic[key]] += value*int(BLOSUM62_dic[key2])*weight_array[j]\n",
        "\n",
        "    temp_code = []\n",
        "    for row in range(24):\n",
        "        for col in range(row,24):\n",
        "            if row == col:\n",
        "                if(temp_score[row][col] != 0):\n",
        "                    temp_code.append(temp_score[row][col])\n",
        "                else:\n",
        "                    temp_code.append(0)\n",
        "            else:\n",
        "                if(temp_score[row][col]+temp_score[col][row] != 0):\n",
        "                    temp_code.append((temp_score[row][col]+temp_score[col][row]))\n",
        "                else:\n",
        "                    temp_code.append(0)\n",
        "\n",
        "    return(temp_code)\n",
        "\n",
        "\n",
        "def load_data():\n",
        "    p_file = open('./workdir/data_set.txt', 'r')\n",
        "    posi = []\n",
        "    for line in p_file.readlines():\n",
        "        posi.append(line.strip())\n",
        "    p_file.close()\n",
        "    return posi\n",
        "\n",
        "def load_trained(file):\n",
        "    weight = []\n",
        "    matrix = []\n",
        "    matrix.append([])\n",
        "    model = open(file, 'r')\n",
        "    line = model.readline()\n",
        "    for value in line.split(\"\\t\"):\n",
        "        weight.append(float(value))\n",
        "    for values in model.readlines():\n",
        "        values = values.strip()\n",
        "        if not values.startswith('~'):\n",
        "            row_matrix = []\n",
        "            for value in values.split(\"\\t\"):\n",
        "                row_matrix.append(float(value))\n",
        "            matrix[0].append(row_matrix)\n",
        "        else:\n",
        "            matrix.append(float(''.join(list(values)[1:])))\n",
        "    matrix_array = []\n",
        "    for i in range(len(matrix[0])):\n",
        "        for j in range(i,len(matrix[0][i])):\n",
        "            matrix_array.append(matrix[0][i][j])\n",
        "    matrix_array.append(matrix[1])\n",
        "    return [weight, matrix_array]\n",
        "\n",
        "data_set = load_data()\n",
        "trained_model = load_trained(r'./workdir/trained_model.txt')\n",
        "\n",
        "\n",
        "def predict_s(pep):\n",
        "    p_list = data_set\n",
        "    weight_array = trained_model[0]\n",
        "    matrix_array = trained_model[1]\n",
        "    pep_encode = encode_pep_single(pep,p_list,weight_array)\n",
        "    sim_score=0.0\n",
        "    for j in range(len(pep_encode)):\n",
        "        sim_score += pep_encode[j]*matrix_array[j]\n",
        "    sim_score += matrix_array[-1]\n",
        "    return (sim_score)\n"
      ],
      "metadata": {
        "id": "MDCtZ65tB9Iw"
      },
      "execution_count": 6,
      "outputs": []
    },
    {
      "cell_type": "code",
      "source": [
        "# LIRcentral-group code here\n",
        "def calculate_pLIRm_score(seq):\n",
        "  '''\n",
        "  Sequence should be 7+4+7 residues long (upstream+core+downstream)\n",
        "  When upstream/downstream sequences are shorter they should be padded using\n",
        "  left_pad_sequence(seq, total_length=7, pad_char='X')\n",
        "  or\n",
        "  right_pad_sequence(seq, total_length=7, pad_char='X')\n",
        "  respectively before calling calculate_pLIRm_score\n",
        "  '''\n",
        "  pLIRm_score = predict_s(seq)\n",
        "  return(pLIRm_score)\n"
      ],
      "metadata": {
        "id": "eqQAlANHCdXJ"
      },
      "execution_count": 7,
      "outputs": []
    },
    {
      "cell_type": "markdown",
      "source": [
        "# Predictor imports and functions\n",
        "\n",
        "Run the cells below and proceed to the next section for performing a prediction."
      ],
      "metadata": {
        "id": "hzyS82TJPuq-"
      }
    },
    {
      "cell_type": "code",
      "execution_count": 8,
      "metadata": {
        "id": "pztHvAZBUUTO"
      },
      "outputs": [],
      "source": [
        "# Import necessary libraries\n",
        "import pandas as pd\n",
        "import numpy as np\n",
        "import joblib\n",
        "from sklearn.preprocessing import StandardScaler\n",
        "import ipywidgets as widgets\n",
        "from IPython.display import display\n",
        "from statistics import mean\n",
        "\n",
        "# Load the pre-trained model and scaler\n",
        "stacking_classifier_w_plirm = joblib.load('./workdir/stacking_classifier_w_pLIRm.pkl')\n",
        "scaler_w_plirm = joblib.load('./workdir/scaler_w_pLIRm.pkl')\n",
        "\n",
        "stacking_classifier_AFdis_pssm_newPSSMs = joblib.load('./workdir/stacking_classifier_AFdis_pssm_newPSSMs.pkl')\n",
        "stacking_scaler_AFdis_pssm_newPSSMs = joblib.load('./workdir/stacking_scaler_AFdis_pssm_newPSSMs.pkl')"
      ]
    },
    {
      "cell_type": "code",
      "source": [
        "# Test the predictor\n",
        "def test_predictor():\n",
        "\n",
        "  df = pd.DataFrame()\n",
        "  df['(-2)LIR PSSM score'] = [-1]\n",
        "  df['AF2-disorder-avgscores-core']=[0.7]\n",
        "  df['AF2-disorder-avgscores-upstream']=[0.8]\n",
        "  df['AF2-disorder-avgscores-downstream']=[0.6]\n",
        "  df['PSSM_LIRcentral-core']=[15]\n",
        "  df['PSSM_LIRcentral-upstream']=[2]\n",
        "  df['PSSM_LIRcentral-downstream']=[-1]\n",
        "  df['nPSSM_LIRcentral-core']=[1]\n",
        "  df['nPSSM_LIRcentral-upstream']=[-3]\n",
        "  df['nPSSM_LIRcentral-downstream']=[-1]\n",
        "\n",
        "  features = stacking_scaler_AFdis_pssm_newPSSMs.transform(df)\n",
        "  classes = {1:\"Functional\", 0:\"Non-functional\"}\n",
        "  prediction = stacking_classifier_AFdis_pssm_newPSSMs.predict(features)\n",
        "  predicted_class = prediction[0]\n",
        "  print(f\"Predicted Class: {classes[predicted_class]}\")\n",
        "\n",
        "  df['pLIRm-score']=[1]\n",
        "  features=scaler_w_plirm.transform(df)\n",
        "  prediction=stacking_classifier_w_plirm.predict(features)\n",
        "  predicted_class = prediction[0]\n",
        "  print(f\"Predicted Class: {classes[predicted_class]}\")\n",
        "\n",
        "# For debugging purpposes only\n",
        "debug = 0\n",
        "if debug:\n",
        "  test_predictor()\n"
      ],
      "metadata": {
        "id": "i2dfIkpKRWhc"
      },
      "execution_count": 9,
      "outputs": []
    },
    {
      "cell_type": "code",
      "source": [
        "def predict_protein(change):\n",
        "    with output:\n",
        "        output.clear_output()\n",
        "        # Get the input sequence\n",
        "        uniprot_id = sequence_input.value\n",
        "        if not uniprot_id:\n",
        "            print(\"Please enter a UniProt Identifier.\")\n",
        "            return\n",
        "\n",
        "        try:\n",
        "          json_data =query_mobidb(uniprot_id)\n",
        "          if json_data:\n",
        "                disorder_values = extract_alphafold_disorder(json_data)\n",
        "                if disorder_values:\n",
        "                    sequence = extract_sequence(json_data)\n",
        "                    if sequence:\n",
        "                      if len(sequence) != len (disorder_values):\n",
        "                        print('Disordered scores do not match the given sequence')\n",
        "                    else:\n",
        "                      print(f\"Failed to retrieve sequence for UniProt ID: {uniprot_id}\")\n",
        "                else:\n",
        "                    print(f\"No AlphaFold disorder values for UniProt ID: {uniprot_id}\")\n",
        "          else:\n",
        "                print(f\"Failed to retrieve results for UniProt ID: {uniprot_id}\")\n",
        "\n",
        "        except:\n",
        "          print(f\"Invalid UniProt ID: {uniprot_id}? Cannot obtain AlphaFold-disorder data.\")\n",
        "\n",
        "        # If we have reached this point then\n",
        "        # sequence and disorder_values were\n",
        "        # retrieved and read successfully\n",
        "\n",
        "        # Now find all putative LIR motifs ([WFY]xx[VLI])\n",
        "        # with overlaps allowed\n",
        "        LIR_start = []\n",
        "        for i in range(0,len(sequence)):\n",
        "          if sequence[i] not in 'WFY':\n",
        "            continue\n",
        "          else:\n",
        "            if sequence[i+3] in 'VLI': # We have a match to a canonical LIR motif\n",
        "              LIR_start.append(i)\n",
        "\n",
        "        # Prepare all features for each motif\n",
        "        for start_pos in LIR_start:\n",
        "          end_pos=start_pos+3\n",
        "          df = pd.DataFrame()\n",
        "\n",
        "          core = sequence[start_pos:end_pos+1] # Core motif sequence\n",
        "          # Sequence required by pLIRm and legacy PSSM\n",
        "          window_len=7\n",
        "          start_pos_up = max(0,start_pos-window_len)\n",
        "          end_pos_up = max(0,start_pos-1)\n",
        "          ups7 = sequence[start_pos_up:end_pos_up+1] # Upstream-7\n",
        "          start_pos_down = min(end_pos+1, len(sequence)-1)\n",
        "          end_pos_down = min(end_pos+window_len, len(sequence)-1)\n",
        "          dns7 = sequence[start_pos_down:end_pos_down+1] # Downstream-7\n",
        "          up_seq = left_pad_sequence(ups7,total_length=7)\n",
        "          down_seq = right_pad_sequence(dns7,total_length=7)\n",
        "          seq_pLIRm = up_seq + core + down_seq\n",
        "          df['(-2)LIR PSSM score'] = [pssm_calculator(seq_pLIRm)]\n",
        "          # pLIRm feature will not be used as it does not increase accuracy\n",
        "          df['pLIRm-score'] = calculate_pLIRm_score(seq_pLIRm)\n",
        "\n",
        "          # Seqeuence required by new PSSM\n",
        "          window_len=10\n",
        "          start_pos_up = max(0,start_pos-window_len)\n",
        "          end_pos_up = max(0,start_pos-1)\n",
        "          ups10 = sequence[start_pos_up:end_pos_up+1] # Upstream-10\n",
        "          start_pos_down = min(end_pos+1, len(sequence)-1)\n",
        "          end_pos_down = min(end_pos+window_len, len(sequence)-1)\n",
        "          dns10 = sequence[start_pos_down:end_pos_down+1] # Downstream-10\n",
        "\n",
        "          core = left_pad_sequence(core,total_length=14)\n",
        "          core = right_pad_sequence(core,total_length=24)\n",
        "          df['PSSM_LIRcentral-core']= pssm_score(core, pssm_pos)\n",
        "          df['nPSSM_LIRcentral-core']= pssm_score(core, pssm_neg)\n",
        "          up_seq = left_pad_sequence(ups10,total_length=10)\n",
        "          up_seq = right_pad_sequence(up_seq,total_length=24)\n",
        "          df['PSSM_LIRcentral-upstream']=pssm_score(up_seq,pssm_pos)\n",
        "          df['nPSSM_LIRcentral-upstream']=pssm_score(up_seq,pssm_neg)\n",
        "          down_seq = right_pad_sequence(dns10,total_length=10)\n",
        "          down_seq = left_pad_sequence(down_seq,total_length=24)\n",
        "          df['PSSM_LIRcentral-downstream']=pssm_score(down_seq,pssm_pos)\n",
        "          df['nPSSM_LIRcentral-downstream']=pssm_score(down_seq,pssm_neg)\n",
        "\n",
        "          # For calculating AFdisorder parameters\n",
        "          window_len=20\n",
        "          values_list_core = disorder_values[start_pos:end_pos+1]\n",
        "          df['AF2-disorder-avgscores-core'] = mean(values_list_core)\n",
        "          start_pos_up = max(0,start_pos-window_len)\n",
        "          end_pos_up = max(0,start_pos-1)\n",
        "          values_list_up = disorder_values[start_pos_up:end_pos_up+1]\n",
        "          df['AF2-disorder-avgscores-upstream'] = mean(values_list_up)\n",
        "          start_pos_down = min(end_pos+1, len(sequence)-1)\n",
        "          end_pos_down = min(end_pos+window_len, len(sequence)-1)\n",
        "          values_list_down = disorder_values[start_pos_down:end_pos_down+1]\n",
        "          df['AF2-disorder-avgscores-downstream'] = mean(values_list_up)\n",
        "\n",
        "          ordered_features =[\n",
        "              '(-2)LIR PSSM score', 'AF2-disorder-avgscores-core',\n",
        "              'AF2-disorder-avgscores-upstream', 'AF2-disorder-avgscores-downstream',\n",
        "              'PSSM_LIRcentral-core','PSSM_LIRcentral-upstream', 'PSSM_LIRcentral-downstream',\n",
        "              'nPSSM_LIRcentral-core', 'nPSSM_LIRcentral-upstream', 'nPSSM_LIRcentral-downstream','pLIRm-score'\n",
        "              ]\n",
        "          df_ord=df[ordered_features]\n",
        "          classes = {1:\"Functional\", 0:\"Non-functional\"}\n",
        "          features=scaler_w_plirm.transform(df_ord)\n",
        "          prediction=stacking_classifier_w_plirm.predict(features)\n",
        "          predicted_class = prediction[0]\n",
        "          probabilities =stacking_classifier_w_plirm.predict_proba(features)\n",
        "          class_probabilities = probabilities[0]\n",
        "          # features = stacking_scaler_AFdis_pssm_newPSSMs.transform(df_ord)\n",
        "          # prediction = stacking_classifier_AFdis_pssm_newPSSMs.predict(features)\n",
        "          # predicted_class = prediction[0]\n",
        "          # probabilities = stacking_classifier_AFdis_pssm_newPSSMs.predict_proba(features)\n",
        "          # predicted_class2 = np.argmax(probabilities, axis=1)[0]\n",
        "          # class_probabilities = probabilities[0]  # Probabilities for the first (and only) sample\n",
        "\n",
        "          print(f'{uniprot_id} {start_pos}', end='\\t')\n",
        "          print(f'{sequence[start_pos:start_pos+4]}', end='\\t')\n",
        "          print(\"PSSM:\", df['(-2)LIR PSSM score'][0], end='\\t')\n",
        "          print(f\"pLIRm {calculate_pLIRm_score(seq_pLIRm)}\",end='\\t')\n",
        "          print(f\"Pred: {classes[predicted_class]}\", end=\"\\t\")\n",
        "          #print(f\"Prediction2: {predicted_class2}\", end=\"\\t\")\n",
        "          print(f\"Prob: {class_probabilities}\")\n"
      ],
      "metadata": {
        "id": "Qhm-C4gXP8of"
      },
      "execution_count": 12,
      "outputs": []
    },
    {
      "cell_type": "markdown",
      "source": [
        "# Enter data for prediction"
      ],
      "metadata": {
        "id": "NjeyHYF6b1s8"
      }
    },
    {
      "cell_type": "code",
      "source": [
        "  # Create a form to enter a protein sequence\n",
        "  # Currently, a valid UniProt identifier is expected\n",
        "  sequence_input = widgets.Textarea(value='',placeholder='Enter UniProt ID here',description='UniProt ID:',disabled=False)\n",
        "  display(sequence_input)# Display the form\n",
        "  button = widgets.Button(description=\"Predict\") # Create a button to trigger prediction\n",
        "  output = widgets.Output()\n",
        "  button.on_click(predict_protein) # Attach the prediction function to the button click event\n",
        "  display(button, output) # Display the button and output area\n"
      ],
      "metadata": {
        "id": "fkVQvbb2bFKg",
        "outputId": "e8f771a5-fad7-4ed5-9ba3-d1c439e8572b",
        "colab": {
          "base_uri": "https://localhost:8080/",
          "height": 233,
          "referenced_widgets": [
            "94e423bc90514ea2be07a13a880f0227",
            "085f51245e6a4ed5b8098732ec538478",
            "ad011b4a20f148b799dac204e4f00d48",
            "39d596cdfaca4c1f86eabd58158f2fd2",
            "166db4823fd74256a3ec1107ec14b16f",
            "3335317b65444efe8e71ca6206d1ab47",
            "6762bfae86b84ea19e9539b7e0940fc1",
            "54718c6f4a864b3e8f4631216f9adb0a"
          ]
        }
      },
      "execution_count": 13,
      "outputs": [
        {
          "output_type": "display_data",
          "data": {
            "text/plain": [
              "Textarea(value='', description='UniProt ID:', placeholder='Enter UniProt ID here')"
            ],
            "application/vnd.jupyter.widget-view+json": {
              "version_major": 2,
              "version_minor": 0,
              "model_id": "94e423bc90514ea2be07a13a880f0227"
            }
          },
          "metadata": {}
        },
        {
          "output_type": "display_data",
          "data": {
            "text/plain": [
              "Button(description='Predict', style=ButtonStyle())"
            ],
            "application/vnd.jupyter.widget-view+json": {
              "version_major": 2,
              "version_minor": 0,
              "model_id": "39d596cdfaca4c1f86eabd58158f2fd2"
            }
          },
          "metadata": {}
        },
        {
          "output_type": "display_data",
          "data": {
            "text/plain": [
              "Output()"
            ],
            "application/vnd.jupyter.widget-view+json": {
              "version_major": 2,
              "version_minor": 0,
              "model_id": "6762bfae86b84ea19e9539b7e0940fc1"
            }
          },
          "metadata": {}
        }
      ]
    },
    {
      "cell_type": "markdown",
      "source": [
        "# Acknowledgements\n",
        "\n",
        "This work has been possible through a grant awarded to the [Bioinformatics Research Laboratory](https://vprobon.github.io/BRL-UCY) at the [University of Cyprus](https://www.ucy.ac.cy) for the [LIRcentral project](https://lircentral.eu/).\n",
        "\n",
        "LIRcentral is co-funded by the European Union (European Regional Development Fund, ERDF) and the Republic of Cyprus through the project EXCELLENCE/0421/0576 under the EXCELLENCE HUBS programme of the [Cyprus Research and Innovation Foundation](https://research.org.cy).\n",
        "\n",
        "![picture](https://lircentral.eu/images/LIRcentral-FundedBy.png)\n",
        "\n",
        "\n",
        "For the development of iLIR-ML-v0.9 a number of publicly available resources were/are used.\n",
        "\n",
        "- Machine learning modules are based on the excellent [sciKit-learn](https://scikit-learn.org/) Python toolkit.\n",
        "\n",
        "- For the creation of features for representing candidate LIR motifs for predictions the following tools/resources are intrumental:\n",
        "\n",
        "> - The [MobiDB database](https://mobidb.bio.unipd.it/) (Piovesan et al., 2020) provides precomputed intrinsic disorder prediction based on the AlphaFold-disorder method (Piovesan et al., 2022) for select UniProt entries.\n",
        "> - The pLIRm software (freely available online at [GitHub](https://github.com/BioCUCKOO/pLIRm-pLAM), which we have tailored to our pipeline for computing the pLIRm score as an additional predictive feature for LIR motifs. We are indebted to the authors of this work for sharing their work.\n",
        "> - The 'legacy' PSI-BLAST-derived PSSMs from previous work in our lab (Kalvari et al., 2014) ported in Python by undergraduate student Dimitris Kalanides.\n",
        ">- Newly derived PSSMs (LIRcentral-PSSMs), are based on the more recently updated version of the LIRcentral database (Chatzichristofi et al., 2023).\n",
        "\n",
        "\n",
        "Last, but not least, there is a huge amount of work held by official and unofficial members of the LIRcentral team, who developed tools for assisting LIRcentral biocuration, for curating LIRcentral entries from the published literature, for exploring properties of the LIRcentral data. In addition, we are grateful to several experts in autophagy who have provided feedback on existing LIRcentral entries and suggestions for adding new intances of LIR motifs in the database. We intend to keep LIRcentral, its data, and software tools derived from analysing these data freely available to the research community. We hope this work inspire and help others to work on this/similar problem(s).\n",
        "\n",
        "\n"
      ],
      "metadata": {
        "id": "BpQPuZgtSFKw"
      }
    },
    {
      "cell_type": "markdown",
      "source": [
        "# Additional information\n",
        "\n"
      ],
      "metadata": {
        "id": "Yt2LI8CjbHpV"
      }
    },
    {
      "cell_type": "markdown",
      "source": [
        "## Notes\n",
        "The iLIR-ML method takes as input a UniProt identifier. It then retrieves the respective protein sequence and associated AlphaFold-disorder prediction scores from the MobiDB database (if available).  \n",
        "\n",
        "**Warning:** Not all UniProt entries have available AlphaFold-disorder data, so (unfortunately) iLIR-ML predictions for these entries will fail. We are currently working on fixing this issue, which mainly has to do with the compute limitations for running AlphaFold2 at scale.\n",
        "\n",
        "Sequences suitable for prediction are then scanned for all occurences of candidate LIR motifs, based on the degenerate regualar expression pattern ```[WFY]xx[VLI]```. Overlaps are allowed.\n",
        "\n",
        "Based on the protein sequence, a number of features are calculated representing characteristic sequence properties in the vicinity of LIR motifs (e.g., pLIRm score, PSSMs), which are then used for predicting whether a candidate motif is functional (i.e., binds Atg8/LC3/GABARAP) or not.\n",
        "\n"
      ],
      "metadata": {
        "id": "3W2ILfSsdlNW"
      }
    },
    {
      "cell_type": "markdown",
      "source": [
        "## Limitations\n",
        "\n",
        "In addition to technical limitations mentioned above, the major scientific limitation of iLIR-ML lies on the inherent inability to identify non-cannonical LIR motifs.  Previous work has suggested that such cases can only be revealed via structural/complex predictions (Ibrahim et al., 2023; Kołodziej et al., 2023; Zeke et al., 2024)."
      ],
      "metadata": {
        "id": "aGiEry9udnZh"
      }
    },
    {
      "cell_type": "markdown",
      "source": [
        "## Contact\n",
        "\n",
        "For any scientific or technical inquiries, feel free to contact us via email (promponas.vasileios [at] ucy.ac.cy).\n"
      ],
      "metadata": {
        "id": "D7HxnSH4q5Qc"
      }
    },
    {
      "cell_type": "markdown",
      "source": [
        "##References\n",
        "- Chatzichristofi A, Sagris V, Pallaris A, Eftychiou M, Kalvari I, Price N, Theodosiou T, Iliopoulos I, Nezis IP, Promponas VJ. LIRcentral: a manually curated online database of experimentally validated functional LIR motifs. Autophagy. 2023 Dec;19(12):3189-3200. doi: 10.1080/15548627.2023.2235851. Epub 2023 Aug 2. PMID: 37530436; PMCID: PMC10621281.\n",
        "\n",
        "- Han Z, Zhang W, Ning W, Wang C, Deng W, Li Z, Shang Z, Shen X, Liu X, Baba O, Morita T, Chen L, Xue Y, Jia D. Model-based analysis uncovers mutations altering autophagy selectivity in human cancer. Nat Commun. 2021 May 31;12(1):3258. doi: 10.1038/s41467-021-23539-5. PMID: 34059679; PMCID: PMC8166871.\n",
        "\n",
        "\n",
        "- Ibrahim T, Khandare V, Mirkin FG, Tumtas Y, Bubeck D, Bozkurt TO. AlphaFold2-multimer guided high-accuracy prediction of typical and atypical ATG8-binding motifs. PLoS Biol. 2023 Feb 8;21(2):e3001962. doi: 10.1371/journal.pbio.3001962. PMID: 36753519; PMCID: PMC9907853.\n",
        "\n",
        "- Kalvari I, Tsompanis S, Mulakkal NC, Osgood R, Johansen T, Nezis IP, Promponas VJ. iLIR: A web resource for prediction of Atg8-family interacting proteins. Autophagy. 2014 May;10(5):913-25. doi: 10.4161/auto.28260. Epub 2014 Feb 26. PMID: 24589857; PMCID: PMC5119064.\n",
        "\n",
        "- Kołodziej M, Tsapras P, Konstantinou A,  Cameron AD, Promponas V,  Nezis IP. Deformed wings is an Atg8a-interacting protein that negatively regulates autophagy. bioRxiv. 2023;\n",
        "doi: https://doi.org/10.1101/2023.02.03.526972\n",
        "\n",
        "- Zeke A, Gibson TJ, Dobson L. Linear motifs regulating protein secretion, sorting and autophagy in Leishmania parasites are diverged with respect to their host equivalents. PLoS Comput Biol. 2024 Feb 16;20(2):e1011902. doi: 10.1371/journal.pcbi.1011902. PMID: 38363808; PMCID: PMC10903960."
      ],
      "metadata": {
        "id": "8Y_yMTd-dpIg"
      }
    }
  ]
}