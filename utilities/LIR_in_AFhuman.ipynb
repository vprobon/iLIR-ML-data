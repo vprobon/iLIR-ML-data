{
  "nbformat": 4,
  "nbformat_minor": 0,
  "metadata": {
    "colab": {
      "provenance": [],
      "toc_visible": true,
      "authorship_tag": "ABX9TyN91cOI/y2MKCdusz9VBxv7",
      "include_colab_link": true
    },
    "kernelspec": {
      "name": "python3",
      "display_name": "Python 3"
    },
    "language_info": {
      "name": "python"
    }
  },
  "cells": [
    {
      "cell_type": "markdown",
      "metadata": {
        "id": "view-in-github",
        "colab_type": "text"
      },
      "source": [
        "<a href=\"https://colab.research.google.com/github/vprobon/iLIR-ML-data/blob/main/utilities/LIR_in_AFhuman.ipynb\" target=\"_parent\"><img src=\"https://colab.research.google.com/assets/colab-badge.svg\" alt=\"Open In Colab\"/></a>"
      ]
    },
    {
      "cell_type": "markdown",
      "source": [
        "# LIR_in_AFhuman.ipynb\n",
        "\n",
        "Reads AlphaFoldDB entries locally stored based on a list of UniProt identifiers. For all segments of the polypeptide chain matchin the canonical LIR motif [WFY]xx[VLI] extract the pLDDT values for the motif (core) and the flanking (upstream/downstream) peptides of length=10.\n",
        "\n",
        "**Tip**: Essencially, since the pLDDT values are stored in the column where b-factors are traditionally stored in PDB-formatted files, this program can be used to similarly extract b-factors from PDB files reporting experimental structures.\n",
        "\n",
        "**WARNING**: The PDB gradually will phase out PDB-formatted files in favor of mmCIF ones."
      ],
      "metadata": {
        "id": "MddJ_NEWlg-8"
      }
    },
    {
      "cell_type": "markdown",
      "source": [
        "## Enter the path of the folder holding the data"
      ],
      "metadata": {
        "id": "ztalegSFoGh6"
      }
    },
    {
      "cell_type": "code",
      "source": [
        "# Change the path to the directory holding the (AF2) structures of interest\n",
        "\n",
        "AF_dir = \"/home/vprobon/AlphaFoldLIRs/AlphaFold_Human_06042022\" # Directory in HPC cluster\n"
      ],
      "metadata": {
        "id": "CA5omMcanwh3"
      },
      "execution_count": null,
      "outputs": []
    },
    {
      "cell_type": "markdown",
      "source": [
        "# Then execute all cells below"
      ],
      "metadata": {
        "id": "d_8jWsz5ovwk"
      }
    },
    {
      "cell_type": "markdown",
      "source": [
        "## Install and import libraries"
      ],
      "metadata": {
        "id": "Ffwl4jusoUgq"
      }
    },
    {
      "cell_type": "code",
      "source": [
        "!pip install biopython"
      ],
      "metadata": {
        "id": "N2iJn6rIGH-S"
      },
      "execution_count": null,
      "outputs": []
    },
    {
      "cell_type": "code",
      "source": [
        "import pandas as pd\n"
      ],
      "metadata": {
        "id": "wEAplemTokAx"
      },
      "execution_count": null,
      "outputs": []
    },
    {
      "cell_type": "markdown",
      "source": [
        "## Now run the actual code"
      ],
      "metadata": {
        "id": "rXj3BdyqofE3"
      }
    },
    {
      "cell_type": "code",
      "execution_count": null,
      "metadata": {
        "id": "1UvtHoqNCx2Y"
      },
      "outputs": [],
      "source": [
        "\n",
        "\n",
        "def residueb(residue):\n",
        "  totalb = 0\n",
        "  count=0\n",
        "  for atom in residue:\n",
        "    totalb += atom.bfactor\n",
        "    count += 1\n",
        "  return(totalb/count)\n",
        "\n",
        "def process_LIRs(structure):\n",
        "  residues = [r for r in structure.get_residues() if r.get_id()[0] == \" \"]\n",
        "  for res in residues:\n",
        "    if res.id[1] == len(residues)-2:\n",
        "      # Can't find a core LIR from now on\n",
        "      return\n",
        "    if res.resname in ['TRP', 'TYR', 'PHE']:\n",
        "      aroma_id = res.id[1]-1\n",
        "\n",
        "      if residues[aroma_id+3].resname in ['VAL','LEU','ILE']:\n",
        "        ## Then we have a LIR-motif here\n",
        "        print(f\"{structure.id}\\t{aroma_id+1:6d}\\t{aroma_id+4:6d}\", end=\"\\t\")\n",
        "        allb=[]\n",
        "        upstreamb=[]\n",
        "        for i in range (-10,0):\n",
        "          #print(residues[aroma_id+i].resname, residueb(residues[aroma_id+i]))\n",
        "          if aroma_id+i < 0:\n",
        "            continue\n",
        "          upstreamb.append(residueb(residues[aroma_id+i]))\n",
        "          allb.append(residueb(residues[aroma_id+i]))\n",
        "        #print()\n",
        "        lirb=[]\n",
        "        for i in range (0,4):\n",
        "          #print(residues[aroma_id+i].resname, residueb(residues[aroma_id+i]))\n",
        "          lirb.append(residueb(residues[aroma_id+i]))\n",
        "          allb.append(residueb(residues[aroma_id+i]))\n",
        "        #print()\n",
        "        downstreamb=[]\n",
        "        for i in range (4,14):\n",
        "          if aroma_id+i == len(residues):\n",
        "            break\n",
        "          #print(residues[aroma_id+i].resname, residueb(residues[aroma_id+i]))\n",
        "          downstreamb.append(residueb(residues[aroma_id+i]))\n",
        "          allb.append(residueb(residues[aroma_id+i]))\n",
        "\n",
        "        if upstreamb: # there is an updstream sequence\n",
        "          #print(\"Upstream: \", sum(upstreamb)/len(upstreamb), end = \"\\t\")\n",
        "          print(f\"Up: {sum(upstreamb)/len(upstreamb):.6}\", end=\"\\t\")\n",
        "        else:\n",
        "          print(\"Up: \", \"N/A\", end = \"\\t\")\n",
        "\n",
        "        #print(\"LIR:\", sum(lirb)/len(lirb), end = \"\\t\")\n",
        "        print(f\"LIR: {sum(lirb)/len(lirb):.6}\", end = \"\\t\")\n",
        "\n",
        "        if downstreamb: # there is an updstream sequence\n",
        "          #print(\"Downstream\", sum(downstreamb)/len(downstreamb))\n",
        "          print(f\"Down: {sum(downstreamb)/len(downstreamb):.6}\", end=\"\\t\")\n",
        "        else:\n",
        "          print(\"Down\", \"N/A\", end=\"\\t\")\n",
        "\n",
        "        print(f\"Overall: { (sum(downstreamb)+ +sum(lirb)+sum(upstreamb))/(len(upstreamb)+len(lirb)+len(downstreamb)):.6} \" )\n",
        "\n",
        "def getAFstructures(AFdir):\n",
        "  from Bio.PDB.PDBParser import PDBParser\n",
        "  parser = PDBParser()\n",
        "  import os\n",
        "  AFfiles=os.listdir(AFdir)\n",
        "  structs=[]\n",
        "  for AFfile in AFfiles:\n",
        "    if AFfile[-4:] != '.pdb':\n",
        "      continue\n",
        "    structure = parser.get_structure(AFfile, AFdir+\"/\"+AFfile)\n",
        "    structs.append(structure)\n",
        "  return structs\n",
        "\n",
        "\n",
        "if __name__ == '__main__':\n",
        "\n",
        "  structures = []\n",
        "  debug = True\n",
        "  if debug:\n",
        "    structures = getAFstructures('./dummyAF') # For testing and debugging\n",
        "  else:\n",
        "    structures = getAFstructures(AF_dir)\n"
      ]
    },
    {
      "cell_type": "markdown",
      "source": [
        "# Acknowledgements\n",
        "\n",
        "This work has been possible through a grant awarded to the [Bioinformatics Research Laboratory](https://vprobon.github.io/BRL-UCY) at the [University of Cyprus](https://www.ucy.ac.cy) for the [LIRcentral project](https://lircentral.eu/).\n",
        "\n",
        "LIRcentral is co-funded by the European Union (European Regional Development Fund, ERDF) and the Republic of Cyprus through the project EXCELLENCE/0421/0576 under the EXCELLENCE HUBS programme of the [Cyprus Research and Innovation Foundation](https://research.org.cy).\n",
        "\n",
        "![picture](https://lircentral.eu/images/LIRcentral-FundedBy.png)\n",
        "\n",
        "\n",
        "For the development of iLIR-ML-v0.9 a number of publicly available resources were/are used.\n",
        "\n",
        "- Machine learning modules are based on the excellent [sciKit-learn](https://scikit-learn.org/) Python toolkit.\n",
        "\n",
        "- For the creation of features for representing candidate LIR motifs for predictions the following tools/resources are intrumental:\n",
        "\n",
        "> - The [MobiDB database](https://mobidb.bio.unipd.it/) (Piovesan et al., 2020) provides precomputed intrinsic disorder prediction based on the AlphaFold-disorder method (Piovesan et al., 2022) for select UniProt entries.\n",
        "> - The pLIRm software (freely available online at [GitHub](https://github.com/BioCUCKOO/pLIRm-pLAM), which we have tailored to our pipeline for computing the pLIRm score as an additional predictive feature for LIR motifs. We are indebted to the authors of this work for sharing their work.\n",
        "> - The 'legacy' PSI-BLAST-derived PSSMs from previous work in our lab (Kalvari et al., 2014) ported in Python by undergraduate student Dimitris Kalanides.\n",
        ">- Newly derived PSSMs (LIRcentral-PSSMs), are based on the more recently updated version of the LIRcentral database (Chatzichristofi et al., 2023).\n",
        "\n",
        "\n",
        "Last, but not least, there is a huge amount of work held by official and unofficial members of the LIRcentral team, who developed tools for assisting LIRcentral biocuration, for curating LIRcentral entries from the published literature, for exploring properties of the LIRcentral data. In addition, we are grateful to several experts in autophagy who have provided feedback on existing LIRcentral entries and suggestions for adding new intances of LIR motifs in the database. We intend to keep LIRcentral, its data, and software tools derived from analysing these data freely available to the research community. We hope this work inspire and help others to work on this/similar problem(s).\n",
        "\n",
        "\n"
      ],
      "metadata": {
        "id": "mbbtvwyVdtVJ"
      }
    }
  ]
}