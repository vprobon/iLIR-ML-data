{
  "nbformat": 4,
  "nbformat_minor": 0,
  "metadata": {
    "colab": {
      "provenance": [],
      "authorship_tag": "ABX9TyNRBbSBvgOC1RAAOch5xigw",
      "include_colab_link": true
    },
    "kernelspec": {
      "name": "python3",
      "display_name": "Python 3"
    },
    "language_info": {
      "name": "python"
    }
  },
  "cells": [
    {
      "cell_type": "markdown",
      "metadata": {
        "id": "view-in-github",
        "colab_type": "text"
      },
      "source": [
        "<a href=\"https://colab.research.google.com/github/vprobon/iLIR-ML-data/blob/main/utilities/LIR_in_AFhuman.ipynb\" target=\"_parent\"><img src=\"https://colab.research.google.com/assets/colab-badge.svg\" alt=\"Open In Colab\"/></a>"
      ]
    },
    {
      "cell_type": "code",
      "source": [
        "!pip install biopython"
      ],
      "metadata": {
        "id": "N2iJn6rIGH-S"
      },
      "execution_count": null,
      "outputs": []
    },
    {
      "cell_type": "code",
      "execution_count": null,
      "metadata": {
        "id": "1UvtHoqNCx2Y"
      },
      "outputs": [],
      "source": [
        "import pandas as pd\n",
        "\n",
        "AF_dir = \"/home/vprobon/AlphaFoldLIRs/AlphaFold_Human_06042022\" # Directory in cluster\n",
        "\n",
        "\n",
        "def residueb(residue):\n",
        "  totalb = 0\n",
        "  count=0\n",
        "  for atom in residue:\n",
        "    totalb += atom.bfactor\n",
        "    count += 1\n",
        "  return(totalb/count)\n",
        "\n",
        "def process_LIRs(structure):\n",
        "  residues = [r for r in structure.get_residues() if r.get_id()[0] == \" \"]\n",
        "  for res in residues:\n",
        "    if res.id[1] == len(residues)-2:\n",
        "      # Can't find a core LIR from now on\n",
        "      return\n",
        "    if res.resname in ['TRP', 'TYR', 'PHE']:\n",
        "      aroma_id = res.id[1]-1\n",
        "\n",
        "      if residues[aroma_id+3].resname in ['VAL','LEU','ILE']:\n",
        "        ## Then we have a LIR-motif here\n",
        "        print(f\"{structure.id}\\t{aroma_id+1:6d}\\t{aroma_id+4:6d}\", end=\"\\t\")\n",
        "        allb=[]\n",
        "        upstreamb=[]\n",
        "        for i in range (-10,0):\n",
        "          #print(residues[aroma_id+i].resname, residueb(residues[aroma_id+i]))\n",
        "          if aroma_id+i < 0:\n",
        "            continue\n",
        "          upstreamb.append(residueb(residues[aroma_id+i]))\n",
        "          allb.append(residueb(residues[aroma_id+i]))\n",
        "        #print()\n",
        "        lirb=[]\n",
        "        for i in range (0,4):\n",
        "          #print(residues[aroma_id+i].resname, residueb(residues[aroma_id+i]))\n",
        "          lirb.append(residueb(residues[aroma_id+i]))\n",
        "          allb.append(residueb(residues[aroma_id+i]))\n",
        "        #print()\n",
        "        downstreamb=[]\n",
        "        for i in range (4,14):\n",
        "          if aroma_id+i == len(residues):\n",
        "            break\n",
        "          #print(residues[aroma_id+i].resname, residueb(residues[aroma_id+i]))\n",
        "          downstreamb.append(residueb(residues[aroma_id+i]))\n",
        "          allb.append(residueb(residues[aroma_id+i]))\n",
        "\n",
        "        if upstreamb: # there is an updstream sequence\n",
        "          #print(\"Upstream: \", sum(upstreamb)/len(upstreamb), end = \"\\t\")\n",
        "          print(f\"Up: {sum(upstreamb)/len(upstreamb):.6}\", end=\"\\t\")\n",
        "        else:\n",
        "          print(\"Up: \", \"N/A\", end = \"\\t\")\n",
        "\n",
        "        #print(\"LIR:\", sum(lirb)/len(lirb), end = \"\\t\")\n",
        "        print(f\"LIR: {sum(lirb)/len(lirb):.6}\", end = \"\\t\")\n",
        "\n",
        "        if downstreamb: # there is an updstream sequence\n",
        "          #print(\"Downstream\", sum(downstreamb)/len(downstreamb))\n",
        "          print(f\"Down: {sum(downstreamb)/len(downstreamb):.6}\", end=\"\\t\")\n",
        "        else:\n",
        "          print(\"Down\", \"N/A\", end=\"\\t\")\n",
        "\n",
        "        print(f\"Overall: { (sum(downstreamb)+ +sum(lirb)+sum(upstreamb))/(len(upstreamb)+len(lirb)+len(downstreamb)):.6} \" )\n",
        "\n",
        "def getAFstructures(AFdir):\n",
        "  from Bio.PDB.PDBParser import PDBParser\n",
        "  parser = PDBParser()\n",
        "  import os\n",
        "  AFfiles=os.listdir(AFdir)\n",
        "  structs=[]\n",
        "  for AFfile in AFfiles:\n",
        "    if AFfile[-4:] != '.pdb':\n",
        "      continue\n",
        "    structure = parser.get_structure(AFfile, AFdir+\"/\"+AFfile)\n",
        "    structs.append(structure)\n",
        "  return structs\n",
        "\n",
        "\n",
        "if __name__ == '__main__':\n",
        "\n",
        "  structures = []\n",
        "  debug = True\n",
        "  if debug:\n",
        "    structures = getAFstructures('./dummyAF') # For testing and debugging\n",
        "  else:\n",
        "    structures = getAFstructures(AF_dir)\n"
      ]
    }
  ]
}